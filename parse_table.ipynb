{
 "cells": [
  {
   "cell_type": "code",
   "execution_count": 89,
   "id": "4dbd7e02-afa6-4db3-b82f-6f905011b34a",
   "metadata": {},
   "outputs": [],
   "source": [
    "import pandas as pd"
   ]
  },
  {
   "cell_type": "code",
   "execution_count": 90,
   "id": "2d315579-f29a-4873-bf8f-5fb5b0d63945",
   "metadata": {},
   "outputs": [],
   "source": [
    "perf_table = pd.read_csv(\"./performance_table/numerical.csv\", index_col=0)"
   ]
  },
  {
   "cell_type": "code",
   "execution_count": 91,
   "id": "cf44970a-1327-4d6c-810a-babcbde99552",
   "metadata": {},
   "outputs": [
    {
     "data": {
      "text/html": [
       "<div>\n",
       "<style scoped>\n",
       "    .dataframe tbody tr th:only-of-type {\n",
       "        vertical-align: middle;\n",
       "    }\n",
       "\n",
       "    .dataframe tbody tr th {\n",
       "        vertical-align: top;\n",
       "    }\n",
       "\n",
       "    .dataframe thead th {\n",
       "        text-align: right;\n",
       "    }\n",
       "</style>\n",
       "<table border=\"1\" class=\"dataframe\">\n",
       "  <thead>\n",
       "    <tr style=\"text-align: right;\">\n",
       "      <th></th>\n",
       "      <th>Ridge_RMSE</th>\n",
       "      <th>Ridge_MSE</th>\n",
       "      <th>Ridge_R2</th>\n",
       "      <th>Lasso_RMSE</th>\n",
       "      <th>Lasso_MSE</th>\n",
       "      <th>Lasso_R2</th>\n",
       "      <th>RF_RMSE</th>\n",
       "      <th>RF_MSE</th>\n",
       "      <th>RF_R2</th>\n",
       "      <th>XGB_RMSE</th>\n",
       "      <th>XGB_MSE</th>\n",
       "      <th>XGB_R2</th>\n",
       "      <th>MLP_RMSE</th>\n",
       "      <th>MLP_MSE</th>\n",
       "      <th>MLP_R2</th>\n",
       "    </tr>\n",
       "  </thead>\n",
       "  <tbody>\n",
       "    <tr>\n",
       "      <th>TEAGE</th>\n",
       "      <td>16.640854</td>\n",
       "      <td>276.918006</td>\n",
       "      <td>0.147669</td>\n",
       "      <td>16.643542</td>\n",
       "      <td>277.007485</td>\n",
       "      <td>0.147394</td>\n",
       "      <td>16.332904</td>\n",
       "      <td>266.763750</td>\n",
       "      <td>0.178923</td>\n",
       "      <td>16.292575</td>\n",
       "      <td>265.448009</td>\n",
       "      <td>0.182973</td>\n",
       "      <td>16.359644</td>\n",
       "      <td>267.637944</td>\n",
       "      <td>0.176232</td>\n",
       "    </tr>\n",
       "    <tr>\n",
       "      <th>TRCHILDNUM</th>\n",
       "      <td>1.034829</td>\n",
       "      <td>1.070871</td>\n",
       "      <td>0.094593</td>\n",
       "      <td>1.056860</td>\n",
       "      <td>1.116953</td>\n",
       "      <td>0.055632</td>\n",
       "      <td>1.034449</td>\n",
       "      <td>1.070085</td>\n",
       "      <td>0.095259</td>\n",
       "      <td>1.029936</td>\n",
       "      <td>1.060769</td>\n",
       "      <td>0.103135</td>\n",
       "      <td>1.025123</td>\n",
       "      <td>1.050876</td>\n",
       "      <td>0.111499</td>\n",
       "    </tr>\n",
       "    <tr>\n",
       "      <th>TRYHHCHILD</th>\n",
       "      <td>5.204594</td>\n",
       "      <td>27.087802</td>\n",
       "      <td>0.034064</td>\n",
       "      <td>5.224305</td>\n",
       "      <td>27.293366</td>\n",
       "      <td>0.026734</td>\n",
       "      <td>5.114694</td>\n",
       "      <td>26.160091</td>\n",
       "      <td>0.067146</td>\n",
       "      <td>5.129369</td>\n",
       "      <td>26.310427</td>\n",
       "      <td>0.061785</td>\n",
       "      <td>5.097266</td>\n",
       "      <td>25.982120</td>\n",
       "      <td>0.073492</td>\n",
       "    </tr>\n",
       "    <tr>\n",
       "      <th>TEHRUSLT</th>\n",
       "      <td>15.947180</td>\n",
       "      <td>254.312565</td>\n",
       "      <td>0.044723</td>\n",
       "      <td>15.952765</td>\n",
       "      <td>254.490717</td>\n",
       "      <td>0.044053</td>\n",
       "      <td>15.836649</td>\n",
       "      <td>250.799454</td>\n",
       "      <td>0.057919</td>\n",
       "      <td>15.836027</td>\n",
       "      <td>250.779741</td>\n",
       "      <td>0.057993</td>\n",
       "      <td>15.827148</td>\n",
       "      <td>250.498606</td>\n",
       "      <td>0.059049</td>\n",
       "    </tr>\n",
       "  </tbody>\n",
       "</table>\n",
       "</div>"
      ],
      "text/plain": [
       "            Ridge_RMSE   Ridge_MSE  Ridge_R2  Lasso_RMSE   Lasso_MSE  \\\n",
       "TEAGE        16.640854  276.918006  0.147669   16.643542  277.007485   \n",
       "TRCHILDNUM    1.034829    1.070871  0.094593    1.056860    1.116953   \n",
       "TRYHHCHILD    5.204594   27.087802  0.034064    5.224305   27.293366   \n",
       "TEHRUSLT     15.947180  254.312565  0.044723   15.952765  254.490717   \n",
       "\n",
       "            Lasso_R2    RF_RMSE      RF_MSE     RF_R2   XGB_RMSE     XGB_MSE  \\\n",
       "TEAGE       0.147394  16.332904  266.763750  0.178923  16.292575  265.448009   \n",
       "TRCHILDNUM  0.055632   1.034449    1.070085  0.095259   1.029936    1.060769   \n",
       "TRYHHCHILD  0.026734   5.114694   26.160091  0.067146   5.129369   26.310427   \n",
       "TEHRUSLT    0.044053  15.836649  250.799454  0.057919  15.836027  250.779741   \n",
       "\n",
       "              XGB_R2   MLP_RMSE     MLP_MSE    MLP_R2  \n",
       "TEAGE       0.182973  16.359644  267.637944  0.176232  \n",
       "TRCHILDNUM  0.103135   1.025123    1.050876  0.111499  \n",
       "TRYHHCHILD  0.061785   5.097266   25.982120  0.073492  \n",
       "TEHRUSLT    0.057993  15.827148  250.498606  0.059049  "
      ]
     },
     "execution_count": 91,
     "metadata": {},
     "output_type": "execute_result"
    }
   ],
   "source": [
    "perf_table"
   ]
  },
  {
   "cell_type": "code",
   "execution_count": 92,
   "id": "1d044c61-a0d7-4e43-a8e7-4fe2b9e08fb7",
   "metadata": {},
   "outputs": [],
   "source": [
    "RMSE_list = list(perf_table.columns)[::3]"
   ]
  },
  {
   "cell_type": "code",
   "execution_count": 93,
   "id": "96ee3ec7-1169-4cae-af25-bbd6ba7c5d41",
   "metadata": {},
   "outputs": [],
   "source": [
    "MSE_list = list(perf_table.columns)[1::3]"
   ]
  },
  {
   "cell_type": "code",
   "execution_count": 94,
   "id": "c2833c76-9ffa-40a3-93c9-4dd15cc99ffd",
   "metadata": {},
   "outputs": [],
   "source": [
    "R2_list = list(perf_table.columns)[2::3]"
   ]
  },
  {
   "cell_type": "code",
   "execution_count": 116,
   "id": "af1eaefe-2009-4da0-a1cc-d53cb008b6c4",
   "metadata": {},
   "outputs": [
    {
     "name": "stdout",
     "output_type": "stream",
     "text": [
      "15.9472\n",
      "15.9528\n",
      "15.8366\n",
      "15.836\n",
      "15.8271\n"
     ]
    }
   ],
   "source": [
    "for i in perf_table[RMSE_list].iloc[3]:\n",
    "    print(round(i, 4))"
   ]
  },
  {
   "cell_type": "code",
   "execution_count": 117,
   "id": "1f087443-50e8-444e-8efb-fa6ccd5daf65",
   "metadata": {},
   "outputs": [
    {
     "name": "stdout",
     "output_type": "stream",
     "text": [
      "254.3126\n",
      "254.4907\n",
      "250.7995\n",
      "250.7797\n",
      "250.4986\n"
     ]
    }
   ],
   "source": [
    "for i in perf_table[MSE_list].iloc[3]:\n",
    "    print(round(i, 4))"
   ]
  },
  {
   "cell_type": "code",
   "execution_count": 118,
   "id": "299dfa6f-217c-454d-a34d-c3ecc67caf50",
   "metadata": {},
   "outputs": [
    {
     "name": "stdout",
     "output_type": "stream",
     "text": [
      "0.0447\n",
      "0.0441\n",
      "0.0579\n",
      "0.058\n",
      "0.059\n"
     ]
    }
   ],
   "source": [
    "for i in perf_table[R2_list].iloc[3]:\n",
    "    print(round(i, 4))"
   ]
  },
  {
   "cell_type": "code",
   "execution_count": 84,
   "id": "37d699ad-85e8-46d5-ab8e-211e5f1f43d4",
   "metadata": {},
   "outputs": [],
   "source": [
    "TEAGE_dict = {\n",
    "    \"Model Name\": [\"Ridge\", \"Lasso\", \"Random Forest\", \"XGBoost\", \"MLP (100)\"],\n",
    "    \"RMSE\": [16.6409, 16.6435, 16.3329, 16.2926, 16.3596],\n",
    "    \"MSE\": [276.918, 277.0075, 266.7637, 265.448, 267.6379],\n",
    "    \"R-Squared Score\": [0.1477, 0.1474, 0.1789, 0.183, 0.1762],\n",
    "    \"confusion matrix\": [None, None, None, None, None]\n",
    "}"
   ]
  },
  {
   "cell_type": "code",
   "execution_count": 100,
   "id": "45523f3a-0ae6-4aca-83cb-23f6b89c6c53",
   "metadata": {},
   "outputs": [],
   "source": [
    "TRCHILDNUM_dict = {\n",
    "    \"Model Name\": [\"Ridge\", \"Lasso\", \"Random Forest\", \"XGBoost\", \"MLP (100)\"],\n",
    "    \"RMSE\": [1.0348, 1.0569, 1.0344, 1.0299, 1.0251],\n",
    "    \"MSE\": [1.0709, 1.117, 1.0701, 1.0608, 1.0509],\n",
    "    \"R-Squared Score\": [0.0946, 0.0556, 0.0953, 0.1031, 0.1115],\n",
    "    \"confusion matrix\": [None, None, None, None, None]\n",
    "}"
   ]
  },
  {
   "cell_type": "code",
   "execution_count": 115,
   "id": "98de50f7-3b54-4fd9-a15f-3d8cc93af93b",
   "metadata": {},
   "outputs": [],
   "source": [
    "TRYHHCHILD_dict = {\n",
    "    \"Model Name\": [\"Ridge\", \"Lasso\", \"Random Forest\", \"XGBoost\", \"MLP (100)\"],\n",
    "    \"RMSE\": [5.2046, 5.2243, 5.1147, 5.1294, 5.0973],\n",
    "    \"MSE\": [27.0878, 27.2934, 26.1601, 26.3104, 25.9821],\n",
    "    \"R-Squared Score\": [0.0341, 0.0267, 0.0671, 0.0618, 0.0735],\n",
    "    \"confusion matrix\": [None, None, None, None, None]\n",
    "}"
   ]
  },
  {
   "cell_type": "code",
   "execution_count": 119,
   "id": "b829cd88-0c5c-4864-beee-e8a8c073cfd1",
   "metadata": {},
   "outputs": [],
   "source": [
    "TEHRUSLT_dict = {\n",
    "    \"Model Name\": [\"Ridge\", \"Lasso\", \"Random Forest\", \"XGBoost\", \"MLP (100)\"],\n",
    "    \"RMSE\": [15.9472, 15.9528, 15.8366, 15.836, 15.8271],\n",
    "    \"MSE\": [254.3126, 254.4907, 250.7995, 250.7797, 250.4986],\n",
    "    \"R-Squared Score\": [0.0447, 0.0441, 0.0579, 0.058, 0.059],\n",
    "    \"confusion matrix\": [None, None, None, None, None]\n",
    "}"
   ]
  },
  {
   "cell_type": "code",
   "execution_count": null,
   "id": "648bb265-5e52-472b-8ae4-3d3a2c726a3c",
   "metadata": {},
   "outputs": [],
   "source": []
  }
 ],
 "metadata": {
  "kernelspec": {
   "display_name": "Python 3 (ipykernel)",
   "language": "python",
   "name": "python3"
  },
  "language_info": {
   "codemirror_mode": {
    "name": "ipython",
    "version": 3
   },
   "file_extension": ".py",
   "mimetype": "text/x-python",
   "name": "python",
   "nbconvert_exporter": "python",
   "pygments_lexer": "ipython3",
   "version": "3.8.13"
  }
 },
 "nbformat": 4,
 "nbformat_minor": 5
}
